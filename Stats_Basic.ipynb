{
 "cells": [
  {
   "cell_type": "code",
   "execution_count": 29,
   "metadata": {},
   "outputs": [],
   "source": [
    "import numpy as np\n",
    "import pandas as pd\n",
    "import seaborn as sns\n",
    "import matplotlib.pyplot as plt\n",
    "import plotly \n",
    "import statistics\n",
    "\n",
    "from scipy import stats\n",
    "from scipy.stats import skew"
   ]
  },
  {
   "cell_type": "markdown",
   "metadata": {},
   "source": [
    "### 1. ***Explain the different types of data (qualitative and quantitative) and provide examples of each other. Discuss nominal, ordinal, interval, and ratio scales.***\n",
    "* Answer - \n",
    "\n",
    "    *   QUALITATIVE DATA - \n",
    "        Qualitative data, also known as categorical data, is descriptive and characterizes attributes or properties. It is non-numerical and often collected through observations, interviews, or surveys. It's about capturing the richness and depth of experiences, opinions, and behaviors.\n",
    "        Examples:\n",
    "        *    Open-ended survey responses (e.g., \"What do you think about this  product?\").\n",
    "        *    Interview transcripts.\n",
    "        *    Observation notes.\n",
    "        *    Focus group discussions.\n",
    "        *    Diary entries.\n",
    "        *    Written documents (e.g., historical records, company reports).\n",
    "    *   QUANTITATIVE DATA - \n",
    "        Quantitative data is numerical and focuses on measuring and counting. It's about quantifying information to identify patterns, trends, and statistical relationships.\n",
    "\n",
    "        Examples:\n",
    "        *   Numerical survey responses (e.g., \"How satisfied are you on a scale of 1 to 5?\").\n",
    "        *   Test scores.\n",
    "        *   Website traffic data.\n",
    "        *   Sales figures.\n",
    "        *   Population statistics.\n",
    "        *   Temperature readings.\n",
    "        *   Market research data.\n",
    "\n",
    "    * 1.   NOMINAL SCALE :\n",
    "\n",
    "        *   Characteristics:-\n",
    "        *   Categories with no specific order or ranking.\n",
    "        *   Used for naming or labeling variables.\n",
    "        *   No mathematical or no quantitative value operations can be       performed.\n",
    "\n",
    "        *   Examples:-\n",
    "        *   Gender (Male, Female, Other)\n",
    "        *   Hair color (Black, Brown, Blonde, Red)\n",
    "        *   Marital status (Single, Married, Divorced)\n",
    "    \n",
    "    * 2.  ORDINAL SCALE:\n",
    "\n",
    "        *   Characteristics:-\n",
    "        *   Categories with a specific order.\n",
    "        *   The difference between categories is not equal.\n",
    "        *   Ranking is possible, but not precise measurement.\n",
    "        *   Examples:-\n",
    "        *   Educational level (High School, Bachelor's, Master's, PhD).\n",
    "        *   Satisfaction level (Very Satisfied, Satisfied, Neutral, Dissatisfied, Very Dissatisfied).\n",
    "        *   Ranking of preferences (1st, 2nd, 3rd).\n",
    "\n",
    "    * 3.  INTERVAL SCALE :\n",
    "\n",
    "        *   Characteristics:-\n",
    "            Categories with a specific order and equal intervals between them.\n",
    "            No true zero point;zero does not indicate the absence of the variable.\n",
    "            Arithmetic operations like addition and subtraction are possible but not multiplication or division.\n",
    "            Examples:-\n",
    "            Temperature in Celsius or Fahrenheit(e.g., 10°C, 20°C, 30°C).\n",
    "            Calendar years(e.g., 90, 100, 110).\n",
    "            IQ scores(e.g., 2000, 2010, 2020).\n",
    "\n",
    "    * 4.  RATIO SCALE :\n",
    "\n",
    "        *   Characteristics:-\n",
    "        *   Categories with a specific order, equal intervals, and a true zero point.\n",
    "        *   All mathematical operations are possible.\n",
    "        *   Zero indicates the absence of the variable being measured.\n",
    "\n",
    "        *   Examples:-\n",
    "        *   Height.\n",
    "        *   Weight.\n",
    "        *   Age.\n",
    "        *   Income.\n",
    "        *   Number of children."
   ]
  },
  {
   "cell_type": "markdown",
   "metadata": {},
   "source": [
    "### 2. ***What are the measures of central tendency, and when should you use each? Discuss the mean, median and mode with examples and situations where each is appropiate.***\n",
    "\n",
    "* Answer -\n",
    "\n",
    "    Measures of central tendency are statistical tools used to describe the central or typical value of a dataset. They help us understand the distribution of data and identify the most representative value. The three primary measures of central tendency are:- MEAN, MEDIAN, MODE.\n",
    "\n",
    "    * 1.  MEAN(Arithmetic Average) : \n",
    "        Definition: The mean, or average, is calculated by summing all the values in a dataset and dividing by the total number of values.\n",
    "\n",
    "    -   Best used when:-\n",
    "\n",
    "        - Data is normally distributed(bell shaped-curve).\n",
    "        - No extreme outliers.\n",
    "        - Working with continuous data.\n",
    "        - Need to consider all values in the dataset.\n",
    "        - Performing further statistical analyses.\n",
    "\n",
    "    -   Real-world applications:-\n",
    "\n",
    "        - Average test scores in a class.\n",
    "        - Average daily temperature.\n",
    "        - Average height of people.\n",
    "\n",
    "    * 2.  MEDIAN(Middle Value) :\n",
    "        Definition: The median is the middle value in a dataset when the values are arranged in ascending or descending order. If the dataset has an even number of values, the median is the average of the two middle values.\n",
    "\n",
    "    -   Best used when:-\n",
    "\n",
    "        - Data has outliers.\n",
    "        - Distribution is skewed.\n",
    "        - Working with ordinal data.\n",
    "        - Need a robust measure not affected by extreme values.\n",
    "\n",
    "    -   Real-world applications:-\n",
    "\n",
    "        - Household income (due to income inequality).\n",
    "        - House prices in a neighborhood.\n",
    "        - Response times in customer service.\n",
    "\n",
    "    * 3.  MODE(Most Frequent Value): The mode is the most frequently occurring value in a dataset.\n",
    "\n",
    "    *  Best used when:-\n",
    "\n",
    "       - Working with categorical data.\n",
    "       - Looking for the most common occurrence.\n",
    "       - Data is discrete.\n",
    "       - Multiple peaks in the distribution are meaningful.\n",
    "\n",
    "    *  Real-world applications:-\n",
    "\n",
    "       - Most popular product color.\n",
    "       - Most common shoe size.\n",
    "       - Most frequent customer complaint.\n"
   ]
  },
  {
   "cell_type": "code",
   "execution_count": 30,
   "metadata": {},
   "outputs": [
    {
     "data": {
      "text/plain": [
       "np.float64(87.6)"
      ]
     },
     "execution_count": 30,
     "metadata": {},
     "output_type": "execute_result"
    }
   ],
   "source": [
    "# Examples >>\n",
    "\n",
    "## mean >>\n",
    "score = [85, 92, 78, 95, 88]\n",
    "np.mean(score)\n"
   ]
  },
  {
   "cell_type": "code",
   "execution_count": 31,
   "metadata": {},
   "outputs": [
    {
     "data": {
      "text/plain": [
       "np.float64(462.4)"
      ]
     },
     "execution_count": 31,
     "metadata": {},
     "output_type": "execute_result"
    }
   ],
   "source": [
    "#mean is affected by outliers>> here 1800 is the outlier\n",
    "height = [170, 1800, 100, 120, 122]\n",
    "np.mean(height)"
   ]
  },
  {
   "cell_type": "code",
   "execution_count": 32,
   "metadata": {},
   "outputs": [
    {
     "data": {
      "text/plain": [
       "np.float64(88.0)"
      ]
     },
     "execution_count": 32,
     "metadata": {},
     "output_type": "execute_result"
    }
   ],
   "source": [
    "# median >>\n",
    "t_scores = [85, 92, 78, 95, 88]\n",
    "np.median(t_scores)"
   ]
  },
  {
   "cell_type": "code",
   "execution_count": 33,
   "metadata": {},
   "outputs": [],
   "source": [
    "# mode >>\n",
    "num = [1, 2, 3, 3, 4, 5]"
   ]
  },
  {
   "cell_type": "code",
   "execution_count": 34,
   "metadata": {},
   "outputs": [
    {
     "data": {
      "text/plain": [
       "ModeResult(mode=np.int64(3), count=np.int64(2))"
      ]
     },
     "execution_count": 34,
     "metadata": {},
     "output_type": "execute_result"
    }
   ],
   "source": [
    "stats.mode(num)"
   ]
  },
  {
   "cell_type": "code",
   "execution_count": 35,
   "metadata": {},
   "outputs": [
    {
     "data": {
      "text/plain": [
       "3"
      ]
     },
     "execution_count": 35,
     "metadata": {},
     "output_type": "execute_result"
    }
   ],
   "source": [
    "statistics.mode(num)"
   ]
  },
  {
   "cell_type": "markdown",
   "metadata": {},
   "source": [
    "### 3. ***Explain the concept of dispersion. How do variance and standard deviation measure the spread of data ?***\n",
    "\n",
    "*Answer-*\n",
    "    \n",
    "**DISPERSION:-**\n",
    "\n",
    "Dispersion, in statistics, refers to the spread or variability of data points around a central value, typically the mean. It helps us understand how much variation exists within a dataset. A higher dispersion indicates that the data points are more spread out, while a lower dispersion suggests that the data points are clustered closer to the mean.\n",
    "\n",
    "*   Two primary measures of dispersion are Variance and Standard deviation.\n",
    "\n",
    "*1.VARIANCE:-*\n",
    "\n",
    "- Variance measures the average squared deviation of each data point from the mean.\n",
    "* Calculatuion -\n",
    "1. Calculate mean (μ)\n",
    "2. Subtract mean from each value: (x - μ)\n",
    "3. Square differences: (x - μ)²\n",
    "4. Average squared differences: Σ(x - μ)²/n.\n",
    "\n",
    "*2.STANDARD_DEVIATION:-*\n",
    "\n",
    "- Standard deviation is the square root of the variance.It provides a measure of dispersion in the same units as the original data.\n",
    "* Calculation:-\n",
    "1.  Calculate the variance.\n",
    "2.  Square root of variance\n",
    "3.  Uses same units as original data"
   ]
  },
  {
   "cell_type": "code",
   "execution_count": 36,
   "metadata": {},
   "outputs": [
    {
     "data": {
      "text/plain": [
       "[2, 3, 4, 5, 8, 9, 12, 40, 41, 15]"
      ]
     },
     "execution_count": 36,
     "metadata": {},
     "output_type": "execute_result"
    }
   ],
   "source": [
    "data = [2, 3, 4, 5, 8, 9, 12, 40, 41, 15]\n",
    "data"
   ]
  },
  {
   "cell_type": "code",
   "execution_count": 37,
   "metadata": {},
   "outputs": [
    {
     "data": {
      "text/plain": [
       "39"
      ]
     },
     "execution_count": 37,
     "metadata": {},
     "output_type": "execute_result"
    }
   ],
   "source": [
    "#measure of dispersion/spread\n",
    "\n",
    "#1. range\n",
    "\n",
    "max(data) - min(data)"
   ]
  },
  {
   "cell_type": "code",
   "execution_count": 38,
   "metadata": {},
   "outputs": [
    {
     "data": {
      "text/plain": [
       "array([ 2.  ,  4.25,  8.5 , 14.25, 41.  ])"
      ]
     },
     "execution_count": 38,
     "metadata": {},
     "output_type": "execute_result"
    }
   ],
   "source": [
    "#2. Percentile\n",
    "import numpy as np\n",
    "np.percentile(data, [0, 25, 50, 75, 100])"
   ]
  },
  {
   "cell_type": "code",
   "execution_count": 39,
   "metadata": {},
   "outputs": [
    {
     "data": {
      "text/plain": [
       "10.0"
      ]
     },
     "execution_count": 39,
     "metadata": {},
     "output_type": "execute_result"
    }
   ],
   "source": [
    "#3. IQR\n",
    "14.25-4.25"
   ]
  },
  {
   "cell_type": "code",
   "execution_count": 40,
   "metadata": {},
   "outputs": [
    {
     "data": {
      "text/plain": [
       "np.float64(191.69000000000003)"
      ]
     },
     "execution_count": 40,
     "metadata": {},
     "output_type": "execute_result"
    }
   ],
   "source": [
    "#4. Variance\n",
    "\n",
    "np.var(data)"
   ]
  },
  {
   "cell_type": "code",
   "execution_count": 41,
   "metadata": {},
   "outputs": [
    {
     "data": {
      "text/plain": [
       "212.98888888888888"
      ]
     },
     "execution_count": 41,
     "metadata": {},
     "output_type": "execute_result"
    }
   ],
   "source": [
    "statistics.variance(data)"
   ]
  },
  {
   "cell_type": "code",
   "execution_count": 42,
   "metadata": {},
   "outputs": [
    {
     "data": {
      "text/plain": [
       "191.69"
      ]
     },
     "execution_count": 42,
     "metadata": {},
     "output_type": "execute_result"
    }
   ],
   "source": [
    "statistics.pvariance(data)"
   ]
  },
  {
   "cell_type": "code",
   "execution_count": 43,
   "metadata": {},
   "outputs": [
    {
     "data": {
      "text/plain": [
       "np.float64(13.8452157801892)"
      ]
     },
     "execution_count": 43,
     "metadata": {},
     "output_type": "execute_result"
    }
   ],
   "source": [
    "#5. Standard deviation\n",
    "np.std(data)"
   ]
  },
  {
   "cell_type": "markdown",
   "metadata": {},
   "source": [
    "### 4. ***What is a box plot and what can it tell you about the distribution of data?***\n",
    "*Answer:-*\n",
    "\n",
    "***Box plot: A visual summary of data-***\n",
    "\n",
    "*   A box plot, also known as a box-and-whisker plot, is a graphical representation of a dataset that provides a visual summary of its distribution. It's particularly useful for comparing different datasets or identifying outliers.\n",
    "\n",
    "*   Key components :-\n",
    "\n",
    "    1.  Box:\n",
    "\n",
    "    -   Lower Quartile (Q1): Represents the 25th percentile of the data.\n",
    "    -   Median (Q2): Represents the 50th percentile (middle value).\n",
    "    -   Upper Quartile (Q3): Represents the 75th percentile of the data.\n",
    "    -   The box itself shows the interquartile range (IQR), which is the range between the first and third quartiles.\n",
    "\n",
    "    2.  Whiskers :\n",
    "\n",
    "    -    Extend from the box to the minimum and maximum values, excluding outliers.\n",
    "    -    Sometimes, whiskers are limited to a certain range, such as 1.5 times the IQR, to identify potential outliers.\n",
    "\n",
    "    3.  Outliers:\n",
    "\n",
    "    -    Data points that fall outside the whiskers are considered outliers and are often plotted as individual points.\n",
    "\n",
    "***WHAT A BOX PLOT CAN TELL :***\n",
    "\n",
    "-    Central Tendency: The median line within the box indicates the central value of the dataset.\n",
    "-    Spread: The length of the box represents the interquartile range (IQR), which gives an idea of the spread of the middle 50% of the data.\n",
    "-    Skewness: The position of the median within the box can indicate skewness:\n",
    "    -   If the median is closer to the lower quartile, the data is skewed to the right (positively skewed).\n",
    "    -   If the median is closer to the upper quartile, the data is skewed to the left (negatively skewed).\n",
    "-    Outliers: The plot can identify potential outliers, which may be worth investigating further.\n",
    "-    Comparison: Box plots are excellent for comparing the distribution of multiple datasets side-by-side."
   ]
  },
  {
   "cell_type": "code",
   "execution_count": 44,
   "metadata": {},
   "outputs": [
    {
     "data": {
      "image/png": "[encoded data removed]",
      "text/plain": [
       "<Figure size 640x480 with 1 Axes>"
      ]
     },
     "metadata": {},
     "output_type": "display_data"
    }
   ],
   "source": [
    "data = np.random.randn(100)\n",
    "\n",
    "# Create a box plot\n",
    "plt.boxplot(data)\n",
    "\n",
    "# Customize the plot (optional)\n",
    "plt.title('Simple Box Plot')\n",
    "plt.ylabel('Values')\n",
    "\n",
    "# Show the plot\n",
    "plt.show()"
   ]
  },
  {
   "cell_type": "markdown",
   "metadata": {},
   "source": [
    "### 5. ***Discuss the role of random sampling in making inferences about populations.***\n",
    "\n",
    "*Answer-*\n",
    "\n",
    "*The Role of Random Sampling in Making Inferences About Populations:-*\n",
    "\n",
    "Random sampling is a fundamental technique in statistics that allows researchers to draw conclusions about a larger population based on a smaller, representative sample. By selecting individuals randomly, researchers aim to minimize bias and ensure that the sample accurately reflects the characteristics of the population.   \n",
    "\n",
    "*   Key Role of Random Sampling:-\n",
    "\n",
    "    1.  Representative Sample:\n",
    "\n",
    "    -    Random sampling helps to ensure that the sample is a representative subset of the population. This means that the characteristics of the sample, such as the mean, median, and standard deviation, are similar to those of the population.   \n",
    "    -    A representative sample allows researchers to make reliable generalizations about the population.\n",
    "\n",
    "    2.  Minimizing Bias:\n",
    "\n",
    "    -   Random sampling reduces the risk of selection bias, which occurs when certain individuals or groups are more likely to be selected than others.   \n",
    "    -   By randomly selecting individuals, researchers can avoid systematic errors and ensure that the sample is unbiased.\n",
    "\n",
    "    3.  Statistical Inference:\n",
    "\n",
    "    -   Random sampling is essential for statistical inference, which involves using statistical methods to draw conclusions about a population based on sample data.   \n",
    "    -   Statistical tests, such as hypothesis testing and confidence interval estimation, rely on the assumption of random sampling to be valid.\n",
    "\n",
    "    4.  Generalizability of Results:\n",
    "\n",
    "    -   When a sample is randomly selected, the findings from the sample can be generalized to the larger population with a certain level of confidence.   \n",
    "    -   This allows researchers to make claims about the population as a whole, such as estimating population parameters or testing hypotheses.\n",
    "\n",
    "*   Challenges and Considerations:-\n",
    "\n",
    "    -   Practical Difficulties: In some cases, it can be challenging to obtain a truly random sample. Factors like cost, time, and logistical constraints may limit the feasibility of random sampling.   \n",
    "    -   Sample Size: A sufficiently large sample size is necessary to ensure that the sample accurately reflects the population.   \n",
    "    -   Non-Response Bias: If a significant number of individuals in the sample do not respond to the survey or study, it can introduce bias into the results."
   ]
  },
  {
   "cell_type": "markdown",
   "metadata": {},
   "source": [
    "### 6. ***Explain the concept of skewness and its types. How does skewness affect the interpretation of data?***\n",
    "*Answer:-*\n",
    "\n",
    "**Skewness: A Measure of Asymmetry -**\n",
    "\n",
    "Skewness is a statistical measure that quantifies the asymmetry of a probability distribution. It tells us how much a distribution deviates from a normal distribution, which is symmetrical.\n",
    "\n",
    "**Types of Skewness:**\n",
    "\n",
    "1. Positive Skewness (Right-Skewed):\n",
    "\n",
    "    -   The tail of the distribution is longer on the right side.\n",
    "    -   The mean is greater than the median, which is greater than the mode(Mean>Median>Mode).\n",
    "    -   Most values cluster on left.\n",
    "    -   Few high values pull mean right.\n",
    "    -   Example data: [2, 2, 3, 3, 4, 4, 4, 5, 5, 10, 15, 20].\n",
    "    -   Example: Income distribution, where most people have low incomes and a few people have very high incomes; House prices; Response times.\n",
    "\n",
    "2.  Negative Skewness (Left-Skewed):\n",
    "\n",
    "    -   The tail of the distribution is longer on the left side.\n",
    "    -   The mean is less than the median, which is less than the mode\n",
    "    (Mean < Median < Mode).\n",
    "    -   Most values cluster on right.\n",
    "    -   Few low values pull mean left.\n",
    "    -   Example: Exam scores, where most students score high, and a few students score low.\n",
    "\n",
    "3.  Zero (No) Skew:\n",
    "\n",
    "    -   Symmetrical distribution.\n",
    "    -   Mean = Median = Mode\n",
    "    -   Example data: [1, 2, 3, 3, 4, 4, 4, 5, 5, 6, 7]\n",
    "    -   Characteristics:\n",
    "        -   Equal distribution on both sides.\n",
    "        -   Bell-shaped curve.\n",
    "\n",
    "**How Skewness Affects Data Interpretation:**\n",
    "\n",
    "Skewness can significantly impact the interpretation of data, especially when using measures of central tendency and dispersion.\n",
    "\n",
    "1.  Measures of Central Tendency:\n",
    "\n",
    "-   Mean: In skewed distributions, the mean can be pulled towards the tail, making it less representative of the typical value.\n",
    "-   Median: The median is less affected by outliers, making it a more robust measure of central tendency in skewed distributions.\n",
    "-   Mode: The mode can be useful in identifying the most frequent value, but it may not be representative of the overall distribution.\n",
    "\n",
    "2.  Measures of Dispersion:\n",
    "\n",
    "-   Standard Deviation: The standard deviation can be influenced by outliers, especially in skewed distributions.\n",
    "-   Interquartile Range (IQR): The IQR is less sensitive to outliers and can provide a more reliable measure of dispersion in skewed data.\n",
    "\n",
    "3.  Data Visualization:\n",
    "\n",
    "-   Skewness can affect the shape of histograms and box plots.\n",
    "-   A right-skewed distribution will have a longer tail on the right side, while a left-skewed distribution will have a longer tail on the left side.\n",
    "\n",
    "**Understanding skewness is crucial for making accurate interpretations of data and selecting appropriate statistical methods. For example, when dealing with skewed data, using the median and IQR may be more appropriate than the mean and standard deviation.**"
   ]
  },
  {
   "cell_type": "markdown",
   "metadata": {},
   "source": [
    "### 7. ***What is the interquartile range(IQR), and how is it used to detect outliers?***\n",
    "*Answer-*\n",
    "\n",
    "*   The Interquartile Range (IQR) is a measure of statistical dispersion that represents the spread of the middle 50% of the data. It is calculated as the difference between the 75th percentile (Q3) and the 25th percentile (Q1) of the data.\n",
    "\n",
    "IQR = Q3 - Q1\n",
    "\n",
    "*   The IQR is useful for detecting outliers in a dataset, as it provides a robust measure of the data's spread that is less affected by extreme values compared to the standard deviation.\n",
    "\n",
    "**Using IQR to Detect Outliers:**\n",
    "\n",
    "1. Step 1: Calculate the IQR\n",
    "   - Find the 25th (Q1) and 75th (Q3) percentiles of the data\n",
    "   - Subtract Q1 from Q3 to get the IQR\n",
    "\n",
    "2. Step 2: Identify the lower and upper bounds for outliers\n",
    "   - Lower bound = Q1 - 1.5 × IQR\n",
    "   - Upper bound = Q3 + 1.5 × IQR\n",
    "\n",
    "3. Step 3: Classify data points as outliers\n",
    "   - Any values below the lower bound are considered lower outliers\n",
    "   - Any values above the upper bound are considered upper outliers\n",
    "\n",
    "The factor of 1.5 is a common convention, but some analysts use 1.0 or 3.0 depending on the desired sensitivity for outlier detection.\n",
    "\n",
    "Example:\n",
    "\n",
    "The following dataset of student test scores:\n",
    "[65, 70, 72, 75, 78, 80, 82, 85, 88, 90, 92, 95, 99, 105]\n",
    "\n",
    "1. Calculate the IQR:\n",
    "   - Q1 (25th percentile) = 72\n",
    "   - Q3 (75th percentile) = 90\n",
    "   - IQR = Q3 - Q1 = 90 - 72 = 18\n",
    "\n",
    "2. Calculate the lower and upper bounds for outliers:\n",
    "   - Lower bound = Q1 - 1.5 × IQR = 72 - 1.5 × 18 = 45\n",
    "   - Upper bound = Q3 + 1.5 × IQR = 90 + 1.5 × 18 = 117\n",
    "\n",
    "3. Classify outliers:\n",
    "   - The value 105 is above the upper bound and is considered an upper outlier.\n",
    "\n",
    "*   The IQR-based method for detecting outliers is robust against the influence of extreme values, as it relies on the median-based Q1 and Q3 rather than the mean. This makes it particularly useful for skewed or heavy-tailed distributions.\n",
    "\n",
    "**Some key advantages of using the IQR for outlier detection:**\n",
    "\n",
    "- It is simple to calculate and interpret.\n",
    "- It is less sensitive to outliers compared to standard deviation-based methods.\n",
    "- It can be used for both univariate and multivariate data.\n",
    "- It provides a standardized way to identify unusual data points.\n",
    "\n",
    "The IQR is commonly used in exploratory data analysis, data cleaning, and as a preprocessing step before applying more advanced statistical techniques."
   ]
  },
  {
   "cell_type": "markdown",
   "metadata": {},
   "source": [
    "### 8. ***Discuss the conditions under which the binomial distribution is used.***\n",
    "*Answer-*\n",
    "\n",
    "The binomial distribution is a discrete probability distribution that is used to model the number of successes in a fixed number of independent Bernoulli trials. A Bernoulli trial is a random experiment with only two possible outcomes: success or failure.\n",
    "\n",
    "**The binomial distribution is used when the following conditions are met:-**\n",
    "\n",
    "1. Fixed number of trials (n):\n",
    "   - The number of trials or observations is fixed and known in advance.\n",
    "\n",
    "2. Binary outcomes (success or failure):\n",
    "   - Each trial has only two possible outcomes, typically labeled as \"success\" or \"failure\".\n",
    "\n",
    "3. Independence of trials:\n",
    "   - The outcome of each trial is independent of the outcomes of the other trials. This means that the result of one trial does not affect the probability of success or failure in subsequent trials.\n",
    "\n",
    "4. Constant probability of success (p):\n",
    "   - The probability of success (p) is the same for each trial and remains constant throughout the experiment. The probability of failure is then 1-p.\n",
    "\n",
    "The binomial distribution is denoted as B(n, p), where:\n",
    "- n is the number of trials\n",
    "- p is the probability of success in each trial\n",
    "\n",
    "The probability mass function (PMF) of the binomial distribution is given by:\n",
    "\n",
    "P(X = x) = (n choose x) * p^x * (1 - p)^(n - x)\n",
    "\n",
    "Where:\n",
    "- X is the random variable representing the number of successes\n",
    "- x is the observed number of successes\n",
    "- (n choose x) is the binomial coefficient, which represents the number of ways to choose x successes out of n trials\n",
    "\n",
    "**Some common examples where the binomial distribution is applicable:-**\n",
    "\n",
    "1. Coin flipping: The number of heads obtained in a fixed number of coin flips.\n",
    "2. Product defects: The number of defective items in a batch of products.\n",
    "3. Customer purchases: The number of customers who buy a product in a fixed number of sales attempts.\n",
    "4. Medical trials: The number of patients who respond positively to a new treatment in a clinical trial.\n",
    "5. Quality control: The number of defective items in a sample of a manufactured product.\n",
    "\n",
    "**When Not to Use Binomial Distribution:-**\n",
    "\n",
    "*   Dependent Trials: If the outcome of one trial affects the probability of success or failure in subsequent trials, the binomial distribution is not appropriate.\n",
    "*   More Than Two Outcomes: If there are more than two possible outcomes for each trial, the binomial distribution cannot be used.\n",
    "*   Changing Probability of Success: If the probability of success changes from trial to trial, the binomial distribution is not applicable.\n",
    "\n",
    "***The binomial distribution is widely used in various fields, including statistics, probability, operations research, economics, and more. It provides a framework for analyzing and making inferences about the probability of success in a series of independent Bernoulli trials.***"
   ]
  },
  {
   "cell_type": "markdown",
   "metadata": {},
   "source": [
    "### 9. ***Explain the properties of the normal distribution and the empirical rule(68-95-99.7 rule).***\n",
    "*Answer-*\n",
    "\n",
    "**Normal Distribution: A Bell Curve**\n",
    "\n",
    "A normal distribution, often referred to as a bell curve,also known as the Gaussian distribution is a probability distribution that is symmetric about the mean. It's characterized by its bell-shaped curve, where most data points cluster around the mean, and the frequency of data points decreases as you move away from the mean.\n",
    "\n",
    "*It has several important properties:-*\n",
    "\n",
    "1. Bell-Shaped Curve:\n",
    "   - The normal distribution has a characteristic bell-shaped curve that is symmetric about the mean.\n",
    "   - The curve is described by two parameters: the mean (μ) and the standard deviation (σ).\n",
    "\n",
    "2. Symmetry:\n",
    "   - The normal distribution is symmetric around the mean, meaning that the mean, median, and mode are all equal.\n",
    "\n",
    "3. Unimodal:\n",
    "   - The normal distribution has a single peak, which corresponds to the mean of the distribution.\n",
    "\n",
    "4. Continuous:\n",
    "   - The normal distribution is a continuous probability distribution, meaning that the random variable can take on any real value.\n",
    "\n",
    "5. Range:\n",
    "   - The normal distribution has a range of (-∞, ∞), meaning that the random variable can take on any value from negative infinity to positive infinity.\n",
    "\n",
    "**Why is the Normal Distribution Important ?**\n",
    "\n",
    "*  Natural Phenomena: Many natural phenomena, such as height, weight, and IQ scores, follow a normal distribution.\n",
    "*  Statistical Inference: It's widely used in statistical inference, hypothesis testing, and confidence interval estimation.\n",
    "*  Data Analysis: It's used to analyze data and make predictions.\n",
    "\n",
    "**Understanding the Normal Distribution -**\n",
    "\n",
    "By understanding the properties of the normal distribution and the empirical rule we can:\n",
    "\n",
    "-  Interpret data: Analyze data and identify outliers or unusual patterns.\n",
    "-  Make predictions: Estimate probabilities and make predictions about future events.\n",
    "-  Statistical inference: Conduct hypothesis tests and construct confidence intervals.\n",
    "\n",
    "**The Empirical Rule (68-95-99.7 Rule):-**\n",
    "\n",
    "The empirical rule, also known as the 68-95-99.7 rule, is a useful property of the normal distribution. It states that:\n",
    "\n",
    "1. 68% of the data falls within 1 standard deviation (σ) of the mean (μ).\n",
    "   - This means that P(μ - σ ≤ X ≤ μ + σ) = 0.68 or 68%.\n",
    "\n",
    "2. 95% of the data falls within 2 standard deviations (2σ) of the mean (μ).\n",
    "   - This means that P(μ - 2σ ≤ X ≤ μ + 2σ) = 0.95 or 95%.\n",
    "\n",
    "3. 99.7% of the data falls within 3 standard deviations (3σ) of the mean (μ).\n",
    "   - This means that P(μ - 3σ ≤ X ≤ μ + 3σ) = 0.997 or 99.7%.\n",
    "\n",
    "The empirical rule provides a practical way to understand and interpret the spread of data in a normal distribution. It allows to quickly estimate the percentage of data that falls within a certain range around the mean, which is particularly useful in data analysis, quality control, and decision-making.\n",
    "\n",
    "For example, if a dataset follows a normal distribution with a mean of 50 and a standard deviation of 5, then:\n",
    "\n",
    "- 68% of the data will fall between 45 and 55 (50 ± 1 × 5)\n",
    "- 95% of the data will fall between 40 and 60 (50 ± 2 × 5)\n",
    "- 99.7% of the data will fall between 35 and 65 (50 ± 3 × 5)\n",
    "\n",
    "The empirical rule is a powerful tool that helps in understanding the distribution of data, identifying outliers, and making informed decisions based on the characteristics of the normal distribution."
   ]
  },
  {
   "cell_type": "code",
   "execution_count": 45,
   "metadata": {},
   "outputs": [
    {
     "data": {
      "image/png": "[encoded data removed]",
      "text/plain": [
       "<Figure size 640x480 with 1 Axes>"
      ]
     },
     "metadata": {},
     "output_type": "display_data"
    }
   ],
   "source": [
    "import matplotlib.pyplot as plt\n",
    "import numpy as np\n",
    "from scipy.stats import norm\n",
    "\n",
    "# Parameters\n",
    "mu = 50\n",
    "sigma = 5\n",
    "\n",
    "# Generate data points\n",
    "x = np.linspace(mu - 3*sigma, mu + 3*sigma, 100)\n",
    "y = norm.pdf(x, mu, sigma)\n",
    "\n",
    "# Plot the normal distribution curve\n",
    "plt.plot(x, y)\n",
    "\n",
    "# Shade the areas under the curve\n",
    "plt.fill_between(x[(x >= mu-sigma) & (x <= mu+sigma)], 0, y[(x >= mu-sigma) & (x <= mu+sigma)], color='blue', alpha=0.5, label='68%')\n",
    "plt.fill_between(x[(x >= mu-2*sigma) & (x <= mu+2*sigma)], 0, y[(x >= mu-2*sigma) & (x <= mu+2*sigma)], color='green', alpha=0.5, label='95%')\n",
    "plt.fill_between(x[(x >= mu-3*sigma) & (x <= mu+3*sigma)], 0, y[(x >= mu-3*sigma) & (x <= mu+3*sigma)], color='yellow', alpha=0.5, label='99.7%')\n",
    "\n",
    "# Add labels and title\n",
    "plt.xlabel('Value')\n",
    "plt.ylabel('Probability Density')\n",
    "plt.title('Normal Distribution with Mean=50, SD=5')\n",
    "plt.legend()\n",
    "\n",
    "# Show the plot\n",
    "plt.grid(True)\n",
    "plt.show()"
   ]
  },
  {
   "cell_type": "markdown",
   "metadata": {},
   "source": [
    "### 10. ***Provide a real-life example of a Poisson process and calculate the probability for a specific event.***\n",
    "*Answer -*\n",
    "\n",
    "**A Poisson process is a type of stochastic process that models the occurrence of independent events over time or space. The Poisson distribution is used to calculate the probability of a specific number of events occurring in a fixed interval, given the average rate of occurrence.**\n",
    "\n",
    "Real-world applications of Poisson processes are diverse. One real-life example of a Poisson process is the arrival of customers at a bank or a supermarket checkout. Other diverse area are:\n",
    "-   Radioactive decay: The number of decays in a given time interval.\n",
    "-   Traffic accidents: The number of accidents in a specific area over a certain period.\n",
    "-   Telephone calls: The number of calls received by a call center in an hour.\n",
    "-   Network traffic: The number of packets arriving at a router in a given time.\n",
    "\n",
    "*   Example: Customer Arrivals at a Bank -\n",
    "\n",
    "Suppose that the average number of customers arriving at a bank per hour is 20. We want to calculate the probability that exactly 5 customers arrive in a 15-minute interval.\n",
    "\n",
    "To model this scenario using a Poisson process, we need to make the following assumptions:\n",
    "\n",
    "1. The arrivals of customers are independent of each other.\n",
    "2. The average rate of customer arrivals is constant over time (20 customers per hour).\n",
    "3. The probability of a customer arriving in an infinitesimally small time interval is proportional to the length of the interval.\n",
    "\n",
    "Given information:\n",
    "- Average rate of customer arrivals (λ) = 20 customers per hour\n",
    "- Time interval (t) = 15 minutes = 0.25 hours\n",
    "- Number of customers (k) = 5\n",
    "\n",
    "Step 1: Calculate the average number of customers expected in the 15-minute interval.\n",
    "Average number of customers (μ) = λ × t = 20 customers/hour × 0.25 hours = 5 customers\n",
    "\n",
    "Step 2: Calculate the probability of exactly 5 customers arriving in the 15-minute interval using the Poisson distribution formula.\n",
    "The probability mass function (PMF) of the Poisson distribution is given by:\n",
    "P(X = k) = (e^(-μ) × μ^k) / k!\n",
    "\n",
    "Where:\n",
    "- e is the base of the natural logarithm (approximately 2.718)\n",
    "- μ is the average number of events (customers) expected in the time interval\n",
    "- k is the specific number of events (customers) we want to calculate the probability for\n",
    "\n",
    "Plugging in the values:\n",
    "P(X = 5) = (e^(-5) × 5^5) / 5!\n",
    "P(X = 5) ≈ 0.0673 or 6.73%\n",
    "\n",
    "Therefore, the probability of exactly 5 customers arriving at the bank in a 15-minute interval, given an average rate of 20 customers per hour, is approximately 6.73%.\n",
    "\n",
    "This Poisson process example demonstrates how the Poisson distribution can be used to model and calculate probabilities in real-life scenarios involving the occurrence of independent events over time or space."
   ]
  },
  {
   "cell_type": "code",
   "execution_count": 46,
   "metadata": {},
   "outputs": [
    {
     "data": {
      "image/png": "[encoded data removed]",
      "text/plain": [
       "<Figure size 640x480 with 1 Axes>"
      ]
     },
     "metadata": {},
     "output_type": "display_data"
    }
   ],
   "source": [
    "# average arrival rate (lambda)\n",
    "lambda_ = 20\n",
    "\n",
    "# Simulate 100 hours of customer arrivals\n",
    "num_hours = 100\n",
    "simulated_arrivals = np.random.poisson(lam=lambda_, size=num_hours)\n",
    "\n",
    "\n",
    "plt.hist(simulated_arrivals, bins=range(25), align='left', rwidth=0.8)\n",
    "plt.xlabel('Number of Customers')\n",
    "plt.ylabel('Frequency')\n",
    "plt.title('Customer Arrivals per Hour')\n",
    "plt.show()"
   ]
  },
  {
   "attachments": {
    "image.png": {
     "image/png": "[encoded data removed]"
    }
   },
   "cell_type": "markdown",
   "metadata": {},
   "source": [
    "### 11. ***Explain what a random variable is and differentiate between discrete and continuous random variables.***\n",
    "*Answer -*\n",
    "\n",
    "**What is a Random Variable?**\n",
    "\n",
    "*   A random variable is mathematical function that assigns a numerical value to each possible outcome of a random experiment. Its like a way to quantify the uncertainty associated with a random event.\n",
    "*   Random variable are typically denoted by capital letters like X,Y, or Z.\n",
    "\n",
    "**Types of Random Variables:**\n",
    "\n",
    "There are two main types of random variables:\n",
    "\n",
    "1.  Discrete Random Variables:\n",
    "    -   A discrete random variable can take on a countable number of values. These values are often integers, but they can also be specific non-integer values.\n",
    "\n",
    "        Examples:\n",
    "        Number of heads in 5 coin flips (0, 1, 2, 3, 4, 5)\n",
    "        Number of cars passing through an intersection in an hour (0, 1, 2, ...)\n",
    "        The sum of the numbers rolled on two dice (2, 3, 4, ..., 12)\n",
    "\n",
    "2.  Continuous Random Variables:\n",
    "\n",
    "    -   Can take on any value within a specific range or given interval.\n",
    "    -   Its values are not countable, but rather form a continuum.\n",
    "\n",
    "        Examples:\n",
    "        Height of a person (any value between a certain range)\n",
    "        Weight of a product (any value within a certain range)\n",
    "        Time taken to complete a task (any positive value)\n",
    "        \n",
    "**Key differences:**\n",
    "\n",
    "![image.png](attachment:image.png)"
   ]
  },
  {
   "cell_type": "code",
   "execution_count": 47,
   "metadata": {},
   "outputs": [
    {
     "name": "stdout",
     "output_type": "stream",
     "text": [
      "Heads\n",
      "Tails\n",
      "Tails\n",
      "Tails\n",
      "Tails\n",
      "Tails\n",
      "Heads\n",
      "Tails\n",
      "Heads\n",
      "Tails\n"
     ]
    }
   ],
   "source": [
    "# Examples >>\n",
    "import random\n",
    "\n",
    "def coin_toss():\n",
    "  \"\"\"Simulates a coin toss and returns 'Heads' or 'Tails'.\"\"\"\n",
    "  return random.choice(['Heads', 'Tails'])\n",
    "\n",
    "'''The outcome of each coin toss is a \n",
    "discrete random variable with two possible values: 'Heads' or 'Tails'.'''\n",
    "\n",
    "# Simulate 10 coin tosses\n",
    "for _ in range(10):\n",
    "  print(coin_toss())"
   ]
  },
  {
   "cell_type": "code",
   "execution_count": 48,
   "metadata": {},
   "outputs": [
    {
     "data": {
      "image/png": "[encoded data removed]",
      "text/plain": [
       "<Figure size 640x480 with 1 Axes>"
      ]
     },
     "metadata": {},
     "output_type": "display_data"
    }
   ],
   "source": [
    "# Continuous random variable >>\n",
    "\n",
    "# Parameters for a normal distribution\n",
    "mu = 170  # Mean height in cm\n",
    "sigma = 10  # Standard deviation\n",
    "\n",
    "heights = np.random.normal(mu, sigma, 1000)\n",
    "\n",
    "plt.hist(heights, bins=30)\n",
    "plt.xlabel('Height (cm)')\n",
    "plt.ylabel('Frequency')\n",
    "plt.title('Distribution of Heights')\n",
    "\n",
    "plt.grid(True)\n",
    "plt.show()"
   ]
  },
  {
   "cell_type": "markdown",
   "metadata": {},
   "source": [
    "### 12. ***Provide an example dataset, calculate both covariance and correlation, and interpret the results.***\n",
    "*Answer-*"
   ]
  },
  {
   "cell_type": "code",
   "execution_count": 49,
   "metadata": {},
   "outputs": [
    {
     "name": "stdout",
     "output_type": "stream",
     "text": [
      "Covariance: 46.61111111111111\n",
      "Correlation coefficient: 0.9771330134215299\n",
      "Positive covariance: As study hours increase, exam scores tend to increase.\n",
      "Positive correlation: Strong positive linear relationship between study hours and exam scores.\n"
     ]
    }
   ],
   "source": [
    "import numpy as np\n",
    "\n",
    "# data\n",
    "hours_studied = np.array([2, 5, 3, 8, 4, 6, 7, 9, 1, 10])\n",
    "exam_scores = np.array([60, 80, 70, 90, 75, 85, 88, 95, 50, 100])\n",
    "\n",
    "# Calculating covariance\n",
    "covariance = np.cov(hours_studied, exam_scores)[0, 1]\n",
    "\n",
    "# Calculating correlation coefficient\n",
    "correlation = np.corrcoef(hours_studied, exam_scores)[0, 1]\n",
    "\n",
    "print(\"Covariance:\", covariance)\n",
    "print(\"Correlation coefficient:\", correlation)\n",
    "\n",
    "# Interpretation\n",
    "if covariance > 0:\n",
    "    print(\"Positive covariance: As study hours increase, exam scores tend to increase.\")\n",
    "elif covariance < 0:\n",
    "    print(\"Negative covariance: As study hours increase, exam scores tend to decrease.\")\n",
    "else:\n",
    "    print(\"No linear relationship between study hours and exam scores.\")\n",
    "\n",
    "if correlation > 0:\n",
    "    print(\"Positive correlation: Strong positive linear relationship between study hours and exam scores.\")\n",
    "elif correlation < 0:\n",
    "    print(\"Negative correlation: Strong negative linear relationship between study hours and exam scores.\")\n",
    "else:\n",
    "    print(\"No linear relationship between study hours and exam scores.\")"
   ]
  },
  {
   "cell_type": "markdown",
   "metadata": {},
   "source": []
  }
 ],
 "metadata": {
  "kernelspec": {
   "display_name": "Python 3",
   "language": "python",
   "name": "python3"
  },
  "language_info": {
   "codemirror_mode": {
    "name": "ipython",
    "version": 3
   },
   "file_extension": ".py",
   "mimetype": "text/x-python",
   "name": "python",
   "nbconvert_exporter": "python",
   "pygments_lexer": "ipython3",
   "version": "3.12.7"
  }
 },
 "nbformat": 4,
 "nbformat_minor": 2
}
